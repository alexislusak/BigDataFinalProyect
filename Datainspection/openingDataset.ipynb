{
 "cells": [
  {
   "cell_type": "code",
   "execution_count": 1,
   "id": "ff2ae0f4",
   "metadata": {},
   "outputs": [],
   "source": [
    "# Intialization\n",
    "import os\n",
    "import sys\n",
    "\n",
    "os.environ[\"SPARK_HOME\"] = \"/home/talentum/spark\"\n",
    "os.environ[\"PYLIB\"] = os.environ[\"SPARK_HOME\"] + \"/python/lib\"\n",
    "# In below two lines, use /usr/bin/python2.7 if you want to use Python 2\n",
    "os.environ[\"PYSPARK_PYTHON\"] = \"/usr/bin/python3.6\" \n",
    "os.environ[\"PYSPARK_DRIVER_PYTHON\"] = \"/usr/bin/python3\"\n",
    "sys.path.insert(0, os.environ[\"PYLIB\"] +\"/py4j-0.10.7-src.zip\")\n",
    "sys.path.insert(0, os.environ[\"PYLIB\"] +\"/pyspark.zip\")\n",
    "\n",
    "# NOTE: Whichever package you want mention here.\n",
    "# os.environ['PYSPARK_SUBMIT_ARGS'] = '--packages com.databricks:spark-xml_2.11:0.6.0 pyspark-shell' \n",
    "# os.environ['PYSPARK_SUBMIT_ARGS'] = '--packages org.apache.spark:spark-avro_2.11:2.4.0 pyspark-shell'\n",
    "os.environ['PYSPARK_SUBMIT_ARGS'] = '--packages com.databricks:spark-xml_2.11:0.6.0,org.apache.spark:spark-avro_2.11:2.4.3 pyspark-shell'"
   ]
  },
  {
   "cell_type": "code",
   "execution_count": 2,
   "id": "b8bb639c",
   "metadata": {},
   "outputs": [],
   "source": [
    "#Entrypoint 2.x\n",
    "from pyspark.sql import SparkSession\n",
    "spark = SparkSession.builder.appName(\"Spark SQL basic example\").enableHiveSupport().getOrCreate()\n",
    "\n",
    "# On yarn:\n",
    "# spark = SparkSession.builder.appName(\"Spark SQL basic example\").enableHiveSupport().master(\"yarn\").getOrCreate()\n",
    "# specify .master(\"yarn\")\n",
    "\n",
    "sc = spark.sparkContext"
   ]
  },
  {
   "cell_type": "markdown",
   "id": "dc12ebe4",
   "metadata": {},
   "source": [
    "Opening the tests dataset"
   ]
  },
  {
   "cell_type": "code",
   "execution_count": 4,
   "id": "b96ef81d",
   "metadata": {},
   "outputs": [
    {
     "name": "stdout",
     "output_type": "stream",
     "text": [
      "+-------+-----------------+----------+----------+----------+----------+---------+---------+---------+---------+\n",
      "|time_id|seconds_in_bucket|bid_price1|ask_price1|bid_price2|ask_price2|bid_size1|ask_size1|bid_size2|ask_size2|\n",
      "+-------+-----------------+----------+----------+----------+----------+---------+---------+---------+---------+\n",
      "|      4|                0| 1.0000491|   1.00059|0.99965584| 1.0006392|       91|      100|      100|       24|\n",
      "|      4|                1| 1.0000491|   1.00059|0.99965584| 1.0006392|       91|      100|      100|       20|\n",
      "|      4|                5| 1.0000491| 1.0006392|0.99965584|  1.000885|      290|       20|      101|       15|\n",
      "+-------+-----------------+----------+----------+----------+----------+---------+---------+---------+---------+\n",
      "\n"
     ]
    }
   ],
   "source": [
    "#opening test stock 0\n",
    "book_test_0=spark.read.parquet('file:///home/talentum/shared/BIGDATAPROYECT/book_test.parquet/stock_id=0/*')\n",
    "book_test_0.show()\n",
    "\n",
    "#This is all the data for test, it is clean"
   ]
  },
  {
   "cell_type": "markdown",
   "id": "acdfcd75",
   "metadata": {},
   "source": [
    "Example of data 0 in the train data"
   ]
  },
  {
   "cell_type": "code",
   "execution_count": 5,
   "id": "844ffa37",
   "metadata": {},
   "outputs": [
    {
     "name": "stdout",
     "output_type": "stream",
     "text": [
      "+-------+-----------------+----------+----------+----------+----------+---------+---------+---------+---------+\n",
      "|time_id|seconds_in_bucket|bid_price1|ask_price1|bid_price2|ask_price2|bid_size1|ask_size1|bid_size2|ask_size2|\n",
      "+-------+-----------------+----------+----------+----------+----------+---------+---------+---------+---------+\n",
      "|      5|                0| 1.0014222| 1.0023013| 1.0013704| 1.0023531|        3|      226|        2|      100|\n",
      "|      5|                1| 1.0014222| 1.0023013| 1.0013704| 1.0023531|        3|      100|        2|      100|\n",
      "|      5|                5| 1.0014222| 1.0023013| 1.0013704| 1.0024048|        3|      100|        2|      100|\n",
      "|      5|                6| 1.0014222| 1.0023013| 1.0013704| 1.0024048|        3|      126|        2|      100|\n",
      "|      5|                7| 1.0014222| 1.0023013| 1.0013704| 1.0024048|        3|      126|        2|      100|\n",
      "|      5|               11| 1.0014222| 1.0023013| 1.0013704| 1.0024048|        3|      100|        2|      100|\n",
      "|      5|               12| 1.0014222| 1.0023013| 1.0013704| 1.0024048|        3|      126|        2|      100|\n",
      "|      5|               14| 1.0014222| 1.0023013| 1.0013704| 1.0024048|        3|      126|        2|      100|\n",
      "|      5|               15| 1.0014222| 1.0023013| 1.0013704| 1.0024048|        3|      126|        2|      100|\n",
      "|      5|               16| 1.0014222| 1.0023013| 1.0013704| 1.0024048|        3|      126|        2|      100|\n",
      "|      5|               17| 1.0014222| 1.0023013| 1.0013704| 1.0024048|        3|      100|        2|      100|\n",
      "|      5|               18| 1.0014222| 1.0023013| 1.0013704| 1.0024048|        3|      126|        2|      100|\n",
      "|      5|               19| 1.0014222| 1.0023013| 1.0013704| 1.0024048|        3|      126|        2|      100|\n",
      "|      5|               21| 1.0014222| 1.0028185| 1.0013704| 1.0029219|        3|       30|        2|      100|\n",
      "|      5|               24| 1.0014739| 1.0028185| 1.0014222| 1.0029219|      155|       30|        3|      100|\n",
      "|      5|               25| 1.0017325| 1.0028185| 1.0014222| 1.0029219|       83|       30|        3|      100|\n",
      "|      5|               44| 1.0017325| 1.0028185| 1.0014222| 1.0029219|       83|       28|        3|      100|\n",
      "|      5|               46| 1.0028185| 1.0032322| 1.0023013| 1.0038011|      155|        1|      200|       34|\n",
      "|      5|               47| 1.0028185| 1.0032322| 1.0023013| 1.0038011|       55|        1|      100|       34|\n",
      "|      5|               48| 1.0028185| 1.0032322| 1.0023531| 1.0037494|       55|      101|      103|      100|\n",
      "+-------+-----------------+----------+----------+----------+----------+---------+---------+---------+---------+\n",
      "only showing top 20 rows\n",
      "\n"
     ]
    },
    {
     "data": {
      "text/plain": [
       "['time_id',\n",
       " 'seconds_in_bucket',\n",
       " 'bid_price1',\n",
       " 'ask_price1',\n",
       " 'bid_price2',\n",
       " 'ask_price2',\n",
       " 'bid_size1',\n",
       " 'ask_size1',\n",
       " 'bid_size2',\n",
       " 'ask_size2']"
      ]
     },
     "execution_count": 5,
     "metadata": {},
     "output_type": "execute_result"
    }
   ],
   "source": [
    "#opening train only dataset 0\n",
    "book_train_0=spark.read.parquet('file:///home/talentum/shared/BIGDATAPROYECT/book_train.parquet/stock_id=0/c439ef22282f412ba39e9137a3fdabac.parquet')\n",
    "book_train_0.show(20)\n",
    "book_train_0.columns\n",
    "#31a1c5cd6d8546b383d10373db762236.parquet\n"
   ]
  },
  {
   "cell_type": "markdown",
   "id": "5b88612c",
   "metadata": {},
   "source": [
    "Opening all train data and analizing if is it clean and if present null values."
   ]
  },
  {
   "cell_type": "code",
   "execution_count": null,
   "id": "a4e1b306",
   "metadata": {},
   "outputs": [],
   "source": [
    "#opening all data\n",
    "mergedDF = spark.read.option(\"mergeSchema\", \"true\").parquet('file:///home/talentum/shared/BIGDATAPROYECT/book_train.parquet/')\n"
   ]
  },
  {
   "cell_type": "code",
   "execution_count": null,
   "id": "e3300236",
   "metadata": {},
   "outputs": [],
   "source": [
    "mergedDF.show(10)\n",
    "mergedDF.printSchema()\n",
    "\n"
   ]
  },
  {
   "cell_type": "code",
   "execution_count": null,
   "id": "f377b124",
   "metadata": {},
   "outputs": [],
   "source": [
    "idi=mergedDF.select('stock_id').distinct().count() \n",
    "print(idi)\n",
    "\n",
    "#Result 112, this is correct! The data is load correct"
   ]
  },
  {
   "cell_type": "code",
   "execution_count": null,
   "id": "7f192a2c",
   "metadata": {},
   "outputs": [],
   "source": [
    "dup=mergedDF.groupby(mergedDF.columns).count().where('count > 1')\n",
    "dup.show()\n",
    "#there is not dupplicates"
   ]
  },
  {
   "cell_type": "code",
   "execution_count": null,
   "id": "b2fe3ebb",
   "metadata": {},
   "outputs": [],
   "source": [
    "rows=mergedDF.count()\n",
    "print('number of rows:',rows)\n",
    "#167253289"
   ]
  },
  {
   "cell_type": "code",
   "execution_count": null,
   "id": "49c7b1f7",
   "metadata": {},
   "outputs": [],
   "source": [
    "dup2=mergedDF.groupby(['time_id','seconds_in_bucket','stock_id']).count().where('count > 1')\n",
    "dup2.show()\n",
    "#there is not dupplicates"
   ]
  },
  {
   "cell_type": "markdown",
   "id": "577b054b",
   "metadata": {},
   "source": [
    "Counting null values"
   ]
  },
  {
   "cell_type": "code",
   "execution_count": null,
   "id": "5fc4f7fe",
   "metadata": {},
   "outputs": [],
   "source": [
    "from pyspark.sql.functions import col,isnan, when, count\n",
    "\n",
    "mergedDF.select([count(when(isnan(c) | col(c).isNull(), c)).alias(c) for c in mergedDF.columns]\n",
    "   ).show()\n",
    "#There is not null values"
   ]
  },
  {
   "cell_type": "markdown",
   "id": "b91143f1",
   "metadata": {},
   "source": [
    "# Pre-Data visualization"
   ]
  },
  {
   "cell_type": "code",
   "execution_count": 54,
   "id": "9afd31ad",
   "metadata": {},
   "outputs": [],
   "source": [
    "#Now we plot the diferents caracteristics\n",
    "#We define important parameters\n",
    "\n",
    "import numpy as np\n",
    "from matplotlib import pyplot as plt\n",
    "from pyspark.sql import functions as F\n",
    "    \n",
    "#Defining WAP function\n",
    "def wap(df,bid_price,ask_price,bid_size,ask_size):\n",
    "    return (df[bid_price]*df[ask_price]+df[ask_price]*df[bid_size])/(df[bid_size]+df[ask_size])\n",
    "\n",
    "#I can't convert the pandas funtion to spark\n",
    "def returns(df,wap):\n",
    "    data_log=F.log(df[wap])\n",
    "    data = data_log.withColumn(\"data\", F.col(wap) - F.lag(F.col(wap), 1))\n"
   ]
  },
  {
   "cell_type": "code",
   "execution_count": 55,
   "id": "c228efe2",
   "metadata": {},
   "outputs": [
    {
     "ename": "TypeError",
     "evalue": "'Column' object is not callable",
     "output_type": "error",
     "traceback": [
      "\u001b[0;31m---------------------------------------------------------------------------\u001b[0m",
      "\u001b[0;31mTypeError\u001b[0m                                 Traceback (most recent call last)",
      "\u001b[0;32m<ipython-input-55-e0550386993d>\u001b[0m in \u001b[0;36m<module>\u001b[0;34m\u001b[0m\n\u001b[1;32m      5\u001b[0m \u001b[0;31m# Add New column with NULL\u001b[0m\u001b[0;34m\u001b[0m\u001b[0;34m\u001b[0m\u001b[0;34m\u001b[0m\u001b[0m\n\u001b[1;32m      6\u001b[0m \u001b[0mdf\u001b[0m\u001b[0;34m=\u001b[0m\u001b[0mdf\u001b[0m\u001b[0;34m.\u001b[0m\u001b[0mwithColumn\u001b[0m\u001b[0;34m(\u001b[0m\u001b[0;34m\"wap1\"\u001b[0m\u001b[0;34m,\u001b[0m \u001b[0mwap\u001b[0m\u001b[0;34m(\u001b[0m\u001b[0mdf\u001b[0m\u001b[0;34m,\u001b[0m\u001b[0;34m'bid_price1'\u001b[0m\u001b[0;34m,\u001b[0m\u001b[0;34m'ask_price1'\u001b[0m\u001b[0;34m,\u001b[0m\u001b[0;34m'bid_size1'\u001b[0m\u001b[0;34m,\u001b[0m\u001b[0;34m'ask_size1'\u001b[0m\u001b[0;34m)\u001b[0m\u001b[0;34m)\u001b[0m\u001b[0;34m\u001b[0m\u001b[0;34m\u001b[0m\u001b[0m\n\u001b[0;32m----> 7\u001b[0;31m \u001b[0mdf\u001b[0m\u001b[0;34m=\u001b[0m\u001b[0mdf\u001b[0m\u001b[0;34m.\u001b[0m\u001b[0mwithColumn\u001b[0m\u001b[0;34m(\u001b[0m\u001b[0;34m\"log_return1\"\u001b[0m\u001b[0;34m,\u001b[0m \u001b[0mreturns\u001b[0m\u001b[0;34m(\u001b[0m\u001b[0mdf\u001b[0m\u001b[0;34m,\u001b[0m\u001b[0;34m'wap1'\u001b[0m\u001b[0;34m)\u001b[0m\u001b[0;34m)\u001b[0m\u001b[0;34m\u001b[0m\u001b[0;34m\u001b[0m\u001b[0m\n\u001b[0m\u001b[1;32m      8\u001b[0m \u001b[0;34m\u001b[0m\u001b[0m\n\u001b[1;32m      9\u001b[0m \u001b[0mdf_pandas\u001b[0m \u001b[0;34m=\u001b[0m \u001b[0mdf\u001b[0m\u001b[0;34m.\u001b[0m\u001b[0mtoPandas\u001b[0m\u001b[0;34m(\u001b[0m\u001b[0;34m)\u001b[0m\u001b[0;34m\u001b[0m\u001b[0;34m\u001b[0m\u001b[0m\n",
      "\u001b[0;32m<ipython-input-54-4a63410b98d8>\u001b[0m in \u001b[0;36mreturns\u001b[0;34m(df, wap)\u001b[0m\n\u001b[1;32m     13\u001b[0m \u001b[0;32mdef\u001b[0m \u001b[0mreturns\u001b[0m\u001b[0;34m(\u001b[0m\u001b[0mdf\u001b[0m\u001b[0;34m,\u001b[0m\u001b[0mwap\u001b[0m\u001b[0;34m)\u001b[0m\u001b[0;34m:\u001b[0m\u001b[0;34m\u001b[0m\u001b[0;34m\u001b[0m\u001b[0m\n\u001b[1;32m     14\u001b[0m     \u001b[0mdata_log\u001b[0m\u001b[0;34m=\u001b[0m\u001b[0mF\u001b[0m\u001b[0;34m.\u001b[0m\u001b[0mlog\u001b[0m\u001b[0;34m(\u001b[0m\u001b[0mdf\u001b[0m\u001b[0;34m[\u001b[0m\u001b[0mwap\u001b[0m\u001b[0;34m]\u001b[0m\u001b[0;34m)\u001b[0m\u001b[0;34m\u001b[0m\u001b[0;34m\u001b[0m\u001b[0m\n\u001b[0;32m---> 15\u001b[0;31m     \u001b[0mdata\u001b[0m \u001b[0;34m=\u001b[0m \u001b[0mdata_log\u001b[0m\u001b[0;34m.\u001b[0m\u001b[0mwithColumn\u001b[0m\u001b[0;34m(\u001b[0m\u001b[0;34m\"data\"\u001b[0m\u001b[0;34m,\u001b[0m \u001b[0mF\u001b[0m\u001b[0;34m.\u001b[0m\u001b[0mcol\u001b[0m\u001b[0;34m(\u001b[0m\u001b[0mwap\u001b[0m\u001b[0;34m)\u001b[0m \u001b[0;34m-\u001b[0m \u001b[0mF\u001b[0m\u001b[0;34m.\u001b[0m\u001b[0mlag\u001b[0m\u001b[0;34m(\u001b[0m\u001b[0mF\u001b[0m\u001b[0;34m.\u001b[0m\u001b[0mcol\u001b[0m\u001b[0;34m(\u001b[0m\u001b[0mwap\u001b[0m\u001b[0;34m)\u001b[0m\u001b[0;34m,\u001b[0m \u001b[0;36m1\u001b[0m\u001b[0;34m)\u001b[0m\u001b[0;34m)\u001b[0m\u001b[0;34m\u001b[0m\u001b[0;34m\u001b[0m\u001b[0m\n\u001b[0m",
      "\u001b[0;31mTypeError\u001b[0m: 'Column' object is not callable"
     ]
    }
   ],
   "source": [
    "#Ploting wap and logreturns\n",
    "\n",
    "df=book_train_0\n",
    "\n",
    "# Add New column with NULL\n",
    "df=df.withColumn(\"wap1\", wap(df,'bid_price1','ask_price1','bid_size1','ask_size1'))\n",
    "df=df.withColumn(\"log_return1\", returns(df,'wap1'))\n",
    "\n",
    "df_pandas = df.toPandas()\n",
    "\n"
   ]
  },
  {
   "cell_type": "code",
   "execution_count": 39,
   "id": "36ecfe4e",
   "metadata": {},
   "outputs": [
    {
     "data": {
      "text/plain": [
       "(0.0, 60.0)"
      ]
     },
     "execution_count": 39,
     "metadata": {},
     "output_type": "execute_result"
    },
    {
     "data": {
      "image/png": "[encoded data removed]",
      "text/plain": [
       "<Figure size 432x288 with 1 Axes>"
      ]
     },
     "metadata": {
      "needs_background": "light"
     },
     "output_type": "display_data"
    },
    {
     "data": {
      "image/png": "[encoded data removed]",
      "text/plain": [
       "<Figure size 432x288 with 1 Axes>"
      ]
     },
     "metadata": {
      "needs_background": "light"
     },
     "output_type": "display_data"
    }
   ],
   "source": [
    "df_pandas.plot.line(y='wap1')\n",
    "plt.xlim(0,60)\n",
    "\n",
    "df_pandas.plot.line(y='log_return1')\n",
    "plt.xlim(0,60)"
   ]
  },
  {
   "cell_type": "code",
   "execution_count": 22,
   "id": "b6999b3c",
   "metadata": {},
   "outputs": [
    {
     "data": {
      "text/plain": [
       "[Row(time_id=5, seconds_in_bucket=0, bid_price1=1.0014221668243408, ask_price1=1.0023013353347778, bid_price2=1.0013704299926758, ask_price2=1.0023530721664429, bid_size1=3, ask_size1=226, bid_size2=2, ask_size2=100, wap1=0.017513670775567602)]"
      ]
     },
     "execution_count": 22,
     "metadata": {},
     "output_type": "execute_result"
    }
   ],
   "source": [
    "df.head(1)"
   ]
  },
  {
   "cell_type": "code",
   "execution_count": null,
   "id": "28f406da",
   "metadata": {},
   "outputs": [],
   "source": []
  }
 ],
 "metadata": {
  "kernelspec": {
   "display_name": "Python 3",
   "language": "python",
   "name": "python3"
  },
  "language_info": {
   "codemirror_mode": {
    "name": "ipython",
    "version": 3
   },
   "file_extension": ".py",
   "mimetype": "text/x-python",
   "name": "python",
   "nbconvert_exporter": "python",
   "pygments_lexer": "ipython3",
   "version": "3.6.9"
  }
 },
 "nbformat": 4,
 "nbformat_minor": 5
}
