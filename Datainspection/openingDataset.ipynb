{
 "cells": [
  {
   "cell_type": "code",
   "execution_count": 2,
   "id": "ff2ae0f4",
   "metadata": {},
   "outputs": [],
   "source": [
    "# Intialization\n",
    "import os\n",
    "import sys\n",
    "\n",
    "os.environ[\"SPARK_HOME\"] = \"/home/talentum/spark\"\n",
    "os.environ[\"PYLIB\"] = os.environ[\"SPARK_HOME\"] + \"/python/lib\"\n",
    "# In below two lines, use /usr/bin/python2.7 if you want to use Python 2\n",
    "os.environ[\"PYSPARK_PYTHON\"] = \"/usr/bin/python3.6\" \n",
    "os.environ[\"PYSPARK_DRIVER_PYTHON\"] = \"/usr/bin/python3\"\n",
    "sys.path.insert(0, os.environ[\"PYLIB\"] +\"/py4j-0.10.7-src.zip\")\n",
    "sys.path.insert(0, os.environ[\"PYLIB\"] +\"/pyspark.zip\")\n",
    "\n",
    "# NOTE: Whichever package you want mention here.\n",
    "# os.environ['PYSPARK_SUBMIT_ARGS'] = '--packages com.databricks:spark-xml_2.11:0.6.0 pyspark-shell' \n",
    "# os.environ['PYSPARK_SUBMIT_ARGS'] = '--packages org.apache.spark:spark-avro_2.11:2.4.0 pyspark-shell'\n",
    "os.environ['PYSPARK_SUBMIT_ARGS'] = '--packages com.databricks:spark-xml_2.11:0.6.0,org.apache.spark:spark-avro_2.11:2.4.3 pyspark-shell'"
   ]
  },
  {
   "cell_type": "code",
   "execution_count": 3,
   "id": "b8bb639c",
   "metadata": {},
   "outputs": [],
   "source": [
    "#Entrypoint 2.x\n",
    "from pyspark.sql import SparkSession\n",
    "spark = SparkSession.builder.appName(\"Spark SQL basic example\").enableHiveSupport().getOrCreate()\n",
    "\n",
    "# On yarn:\n",
    "# spark = SparkSession.builder.appName(\"Spark SQL basic example\").enableHiveSupport().master(\"yarn\").getOrCreate()\n",
    "# specify .master(\"yarn\")\n",
    "\n",
    "sc = spark.sparkContext"
   ]
  },
  {
   "cell_type": "markdown",
   "id": "dc12ebe4",
   "metadata": {},
   "source": [
    "Opening the tests dataset"
   ]
  },
  {
   "cell_type": "code",
   "execution_count": 54,
   "id": "b96ef81d",
   "metadata": {},
   "outputs": [
    {
     "name": "stdout",
     "output_type": "stream",
     "text": [
      "+-------+-----------------+----------+----------+----------+----------+---------+---------+---------+---------+\n",
      "|time_id|seconds_in_bucket|bid_price1|ask_price1|bid_price2|ask_price2|bid_size1|ask_size1|bid_size2|ask_size2|\n",
      "+-------+-----------------+----------+----------+----------+----------+---------+---------+---------+---------+\n",
      "|      4|                0| 1.0000491|   1.00059|0.99965584| 1.0006392|       91|      100|      100|       24|\n",
      "|      4|                1| 1.0000491|   1.00059|0.99965584| 1.0006392|       91|      100|      100|       20|\n",
      "|      4|                5| 1.0000491| 1.0006392|0.99965584|  1.000885|      290|       20|      101|       15|\n",
      "+-------+-----------------+----------+----------+----------+----------+---------+---------+---------+---------+\n",
      "\n"
     ]
    }
   ],
   "source": [
    "#opening test\n",
    "book_test=spark.read.parquet('file:///home/talentum/shared/BIGDATAPROYECT/book_test.parquet/stock_id=0/*')\n",
    "book_test.show()\n",
    "\n",
    "#This is all the data for test, it is clean"
   ]
  },
  {
   "cell_type": "markdown",
   "id": "acdfcd75",
   "metadata": {},
   "source": [
    "Example of data 0 in the train data"
   ]
  },
  {
   "cell_type": "code",
   "execution_count": 4,
   "id": "844ffa37",
   "metadata": {},
   "outputs": [
    {
     "name": "stdout",
     "output_type": "stream",
     "text": [
      "+-------+-----------------+----------+----------+----------+----------+---------+---------+---------+---------+\n",
      "|time_id|seconds_in_bucket|bid_price1|ask_price1|bid_price2|ask_price2|bid_size1|ask_size1|bid_size2|ask_size2|\n",
      "+-------+-----------------+----------+----------+----------+----------+---------+---------+---------+---------+\n",
      "|      5|                0| 1.0014222| 1.0023013| 1.0013704| 1.0023531|        3|      226|        2|      100|\n",
      "|      5|                1| 1.0014222| 1.0023013| 1.0013704| 1.0023531|        3|      100|        2|      100|\n",
      "|      5|                5| 1.0014222| 1.0023013| 1.0013704| 1.0024048|        3|      100|        2|      100|\n",
      "|      5|                6| 1.0014222| 1.0023013| 1.0013704| 1.0024048|        3|      126|        2|      100|\n",
      "|      5|                7| 1.0014222| 1.0023013| 1.0013704| 1.0024048|        3|      126|        2|      100|\n",
      "|      5|               11| 1.0014222| 1.0023013| 1.0013704| 1.0024048|        3|      100|        2|      100|\n",
      "|      5|               12| 1.0014222| 1.0023013| 1.0013704| 1.0024048|        3|      126|        2|      100|\n",
      "|      5|               14| 1.0014222| 1.0023013| 1.0013704| 1.0024048|        3|      126|        2|      100|\n",
      "|      5|               15| 1.0014222| 1.0023013| 1.0013704| 1.0024048|        3|      126|        2|      100|\n",
      "|      5|               16| 1.0014222| 1.0023013| 1.0013704| 1.0024048|        3|      126|        2|      100|\n",
      "|      5|               17| 1.0014222| 1.0023013| 1.0013704| 1.0024048|        3|      100|        2|      100|\n",
      "|      5|               18| 1.0014222| 1.0023013| 1.0013704| 1.0024048|        3|      126|        2|      100|\n",
      "|      5|               19| 1.0014222| 1.0023013| 1.0013704| 1.0024048|        3|      126|        2|      100|\n",
      "|      5|               21| 1.0014222| 1.0028185| 1.0013704| 1.0029219|        3|       30|        2|      100|\n",
      "|      5|               24| 1.0014739| 1.0028185| 1.0014222| 1.0029219|      155|       30|        3|      100|\n",
      "|      5|               25| 1.0017325| 1.0028185| 1.0014222| 1.0029219|       83|       30|        3|      100|\n",
      "|      5|               44| 1.0017325| 1.0028185| 1.0014222| 1.0029219|       83|       28|        3|      100|\n",
      "|      5|               46| 1.0028185| 1.0032322| 1.0023013| 1.0038011|      155|        1|      200|       34|\n",
      "|      5|               47| 1.0028185| 1.0032322| 1.0023013| 1.0038011|       55|        1|      100|       34|\n",
      "|      5|               48| 1.0028185| 1.0032322| 1.0023531| 1.0037494|       55|      101|      103|      100|\n",
      "+-------+-----------------+----------+----------+----------+----------+---------+---------+---------+---------+\n",
      "only showing top 20 rows\n",
      "\n"
     ]
    },
    {
     "data": {
      "text/plain": [
       "['time_id',\n",
       " 'seconds_in_bucket',\n",
       " 'bid_price1',\n",
       " 'ask_price1',\n",
       " 'bid_price2',\n",
       " 'ask_price2',\n",
       " 'bid_size1',\n",
       " 'ask_size1',\n",
       " 'bid_size2',\n",
       " 'ask_size2']"
      ]
     },
     "execution_count": 4,
     "metadata": {},
     "output_type": "execute_result"
    }
   ],
   "source": [
    "#opening train only dataset 0\n",
    "book_train=spark.read.parquet('file:///home/talentum/shared/BIGDATAPROYECT/book_train.parquet/stock_id=0/c439ef22282f412ba39e9137a3fdabac.parquet')\n",
    "book_train.show(20)\n",
    "book_train.columns\n",
    "#31a1c5cd6d8546b383d10373db762236.parquet\n"
   ]
  },
  {
   "cell_type": "markdown",
   "id": "5b88612c",
   "metadata": {},
   "source": [
    "Opening all train data and analizing if is it clean and if present null values."
   ]
  },
  {
   "cell_type": "code",
   "execution_count": 32,
   "id": "a4e1b306",
   "metadata": {},
   "outputs": [],
   "source": [
    "#opening all data\n",
    "mergedDF = spark.read.option(\"mergeSchema\", \"true\").parquet('file:///home/talentum/shared/BIGDATAPROYECT/book_train.parquet/')\n"
   ]
  },
  {
   "cell_type": "code",
   "execution_count": 33,
   "id": "e3300236",
   "metadata": {},
   "outputs": [
    {
     "name": "stdout",
     "output_type": "stream",
     "text": [
      "+-------+-----------------+----------+----------+----------+----------+---------+---------+---------+---------+--------+\n",
      "|time_id|seconds_in_bucket|bid_price1|ask_price1|bid_price2|ask_price2|bid_size1|ask_size1|bid_size2|ask_size2|stock_id|\n",
      "+-------+-----------------+----------+----------+----------+----------+---------+---------+---------+---------+--------+\n",
      "|      5|                0| 1.0018843|  1.001916| 1.0018528| 1.0019478|      200|      100|      400|     1089|      29|\n",
      "|      5|                1| 1.0021378| 1.0021694| 1.0021061| 1.0022011|      100|      900|      300|     1089|      29|\n",
      "|      5|                2| 1.0021378| 1.0022011| 1.0021061| 1.0022328|      328|      289|      228|      989|      29|\n",
      "|      5|                3| 1.0021061| 1.0021378| 1.0020744| 1.0021694|      328|      100|     1028|     1089|      29|\n",
      "|      5|                4| 1.0020111| 1.0020744| 1.0019794| 1.0021061|      228|     1089|     1200|     1589|      29|\n",
      "|      5|                5| 1.0020111| 1.0020744| 1.0019794| 1.0021061|      628|     1089|     1000|     1189|      29|\n",
      "|      5|                6| 1.0020428| 1.0021061| 1.0020111| 1.0021378|      527|     1289|      400|     1389|      29|\n",
      "|      5|                7| 1.0020428| 1.0020744| 1.0020111| 1.0021061|      811|       89|      400|      489|      29|\n",
      "|      5|                8| 1.0020428| 1.0021061| 1.0020111| 1.0021378|      711|      389|     1000|     1241|      29|\n",
      "|      5|                9| 1.0021378| 1.0021694| 1.0021061| 1.0022011|      100|      189|      300|     1189|      29|\n",
      "+-------+-----------------+----------+----------+----------+----------+---------+---------+---------+---------+--------+\n",
      "only showing top 10 rows\n",
      "\n",
      "root\n",
      " |-- time_id: short (nullable = true)\n",
      " |-- seconds_in_bucket: short (nullable = true)\n",
      " |-- bid_price1: float (nullable = true)\n",
      " |-- ask_price1: float (nullable = true)\n",
      " |-- bid_price2: float (nullable = true)\n",
      " |-- ask_price2: float (nullable = true)\n",
      " |-- bid_size1: integer (nullable = true)\n",
      " |-- ask_size1: integer (nullable = true)\n",
      " |-- bid_size2: integer (nullable = true)\n",
      " |-- ask_size2: integer (nullable = true)\n",
      " |-- stock_id: integer (nullable = true)\n",
      "\n"
     ]
    }
   ],
   "source": [
    "mergedDF.show(10)\n",
    "mergedDF.printSchema()\n",
    "\n"
   ]
  },
  {
   "cell_type": "code",
   "execution_count": 37,
   "id": "f377b124",
   "metadata": {},
   "outputs": [
    {
     "name": "stdout",
     "output_type": "stream",
     "text": [
      "112\n"
     ]
    }
   ],
   "source": [
    "idi=mergedDF.select('stock_id').distinct().count() \n",
    "print(idi)\n",
    "\n",
    "#Result 112, this is correct! The data is load correct"
   ]
  },
  {
   "cell_type": "code",
   "execution_count": 41,
   "id": "7f192a2c",
   "metadata": {},
   "outputs": [],
   "source": [
    "dup=mergedDF.groupby(mergedDF.columns).count().where('count > 1')\n",
    "dup.show()\n",
    "#there is not dupplicates"
   ]
  },
  {
   "cell_type": "code",
   "execution_count": 49,
   "id": "b2fe3ebb",
   "metadata": {},
   "outputs": [
    {
     "name": "stdout",
     "output_type": "stream",
     "text": [
      "167253289\n"
     ]
    }
   ],
   "source": [
    "rows=mergedDF.count()\n",
    "print('number of rows:',rows)\n",
    "#167253289"
   ]
  },
  {
   "cell_type": "code",
   "execution_count": 50,
   "id": "49c7b1f7",
   "metadata": {},
   "outputs": [
    {
     "name": "stdout",
     "output_type": "stream",
     "text": [
      "+-------+-----------------+--------+-----+\n",
      "|time_id|seconds_in_bucket|stock_id|count|\n",
      "+-------+-----------------+--------+-----+\n",
      "+-------+-----------------+--------+-----+\n",
      "\n"
     ]
    }
   ],
   "source": [
    "dup2=mergedDF.groupby(['time_id','seconds_in_bucket','stock_id']).count().where('count > 1')\n",
    "dup2.show()\n",
    "#there is not dupplicates"
   ]
  },
  {
   "cell_type": "markdown",
   "id": "577b054b",
   "metadata": {},
   "source": [
    "Counting null values"
   ]
  },
  {
   "cell_type": "code",
   "execution_count": 53,
   "id": "5fc4f7fe",
   "metadata": {},
   "outputs": [
    {
     "name": "stdout",
     "output_type": "stream",
     "text": [
      "+-------+-----------------+----------+----------+----------+----------+---------+---------+---------+---------+--------+\n",
      "|time_id|seconds_in_bucket|bid_price1|ask_price1|bid_price2|ask_price2|bid_size1|ask_size1|bid_size2|ask_size2|stock_id|\n",
      "+-------+-----------------+----------+----------+----------+----------+---------+---------+---------+---------+--------+\n",
      "|      0|                0|         0|         0|         0|         0|        0|        0|        0|        0|       0|\n",
      "+-------+-----------------+----------+----------+----------+----------+---------+---------+---------+---------+--------+\n",
      "\n"
     ]
    }
   ],
   "source": [
    "from pyspark.sql.functions import col,isnan, when, count\n",
    "\n",
    "mergedDF.select([count(when(isnan(c) | col(c).isNull(), c)).alias(c) for c in mergedDF.columns]\n",
    "   ).show()\n",
    "#There is not null values"
   ]
  }
 ],
 "metadata": {
  "kernelspec": {
   "display_name": "Python 3",
   "language": "python",
   "name": "python3"
  },
  "language_info": {
   "codemirror_mode": {
    "name": "ipython",
    "version": 3
   },
   "file_extension": ".py",
   "mimetype": "text/x-python",
   "name": "python",
   "nbconvert_exporter": "python",
   "pygments_lexer": "ipython3",
   "version": "3.6.9"
  }
 },
 "nbformat": 4,
 "nbformat_minor": 5
}
